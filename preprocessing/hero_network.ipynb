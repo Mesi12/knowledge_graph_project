{
 "cells": [
  {
   "cell_type": "markdown",
   "metadata": {},
   "source": [
    "## Create clean IRI-s for the superheroes"
   ]
  },
  {
   "cell_type": "code",
   "execution_count": null,
   "metadata": {},
   "outputs": [],
   "source": [
    "import pandas as pd"
   ]
  },
  {
   "cell_type": "code",
   "execution_count": 9,
   "metadata": {},
   "outputs": [
    {
     "name": "stdout",
     "output_type": "stream",
     "text": [
      "                  hero1                 hero2\n",
      "0         LITTLE, ABNER        PRINCESS ZANDA\n",
      "1         LITTLE, ABNER  BLACK PANTHER/T'CHAL\n",
      "2  BLACK PANTHER/T'CHAL        PRINCESS ZANDA\n",
      "3         LITTLE, ABNER        PRINCESS ZANDA\n",
      "4         LITTLE, ABNER  BLACK PANTHER/T'CHAL\n"
     ]
    }
   ],
   "source": [
    "df = pd.read_csv('../data/hero_network.csv')\n",
    "print(df.head())"
   ]
  },
  {
   "cell_type": "code",
   "execution_count": 10,
   "metadata": {},
   "outputs": [
    {
     "data": {
      "text/plain": [
       "hero1    0\n",
       "hero2    0\n",
       "dtype: int64"
      ]
     },
     "execution_count": 10,
     "metadata": {},
     "output_type": "execute_result"
    }
   ],
   "source": [
    "#Checking for missing values\n",
    "df.isnull().sum()"
   ]
  },
  {
   "cell_type": "code",
   "execution_count": 11,
   "metadata": {},
   "outputs": [
    {
     "name": "stdout",
     "output_type": "stream",
     "text": [
      "0                 little_abner\n",
      "1                 little_abner\n",
      "2         black_panther_t_chal\n",
      "3                 little_abner\n",
      "4                 little_abner\n",
      "                  ...         \n",
      "574462    colossus_ii_peter_ra\n",
      "574463                callisto\n",
      "574464                callisto\n",
      "574465                 caliban\n",
      "574466     hulk_dr_robert_bruc\n",
      "Name: hero1, Length: 574467, dtype: object\n"
     ]
    }
   ],
   "source": [
    "#clean hero1 name with regex and create id for it (for clean iri)\n",
    "\n",
    "hero1_id = df.loc[:,'hero1'].str.strip()\n",
    "hero1_id = hero1_id.str.lower() \\\n",
    "                    .str.replace(r\"[, \\/\\-\\.'\\&\\[\\]\\|\\?\\(\\)]\", \"_\", regex=True) \\\n",
    "                    .str.replace(r\"[_]+\", \"_\", regex=True) \\\n",
    "                    .str.strip(\"_\")\n",
    "print(hero1_id)"
   ]
  },
  {
   "cell_type": "code",
   "execution_count": 12,
   "metadata": {},
   "outputs": [
    {
     "name": "stdout",
     "output_type": "stream",
     "text": [
      "                       hero1                 hero2              hero1_id\n",
      "0              LITTLE, ABNER        PRINCESS ZANDA          little_abner\n",
      "1              LITTLE, ABNER  BLACK PANTHER/T'CHAL          little_abner\n",
      "2       BLACK PANTHER/T'CHAL        PRINCESS ZANDA  black_panther_t_chal\n",
      "3              LITTLE, ABNER        PRINCESS ZANDA          little_abner\n",
      "4              LITTLE, ABNER  BLACK PANTHER/T'CHAL          little_abner\n",
      "...                      ...                   ...                   ...\n",
      "574462  COLOSSUS II/PETER RA              CALLISTO  colossus_ii_peter_ra\n",
      "574463              CALLISTO               ROGUE /              callisto\n",
      "574464              CALLISTO              CALIBAN/              callisto\n",
      "574465              CALIBAN/               ROGUE /               caliban\n",
      "574466  HULK/DR. ROBERT BRUC     MARKS, DR. SHIELA   hulk_dr_robert_bruc\n",
      "\n",
      "[574467 rows x 3 columns]\n"
     ]
    }
   ],
   "source": [
    "#add column hero1_id to df\n",
    "df['hero1_id'] = hero1_id\n",
    "print(df)"
   ]
  },
  {
   "cell_type": "code",
   "execution_count": 13,
   "metadata": {},
   "outputs": [
    {
     "name": "stdout",
     "output_type": "stream",
     "text": [
      "0               princess_zanda\n",
      "1         black_panther_t_chal\n",
      "2               princess_zanda\n",
      "3               princess_zanda\n",
      "4         black_panther_t_chal\n",
      "                  ...         \n",
      "574462                callisto\n",
      "574463                   rogue\n",
      "574464                 caliban\n",
      "574465                   rogue\n",
      "574466         marks_dr_shiela\n",
      "Name: hero2, Length: 574467, dtype: object\n"
     ]
    }
   ],
   "source": [
    "##clean hero2 name with regex and create id for it (for clean iri)\n",
    "hero2_id = df.loc[:,'hero2'].str.strip()\n",
    "hero2_id = hero2_id.str.lower() \\\n",
    "                    .str.replace(r\"[, \\/\\-\\.'\\&\\[\\]\\|\\?\\(\\)]\", \"_\", regex=True) \\\n",
    "                    .str.replace(r\"[_]+\", \"_\", regex=True) \\\n",
    "                    .str.strip(\"_\")\n",
    "print(hero2_id)\n",
    "#.str.replace(r\"[^a-z0-9]\",\"_\", regex=True) \\"
   ]
  },
  {
   "cell_type": "code",
   "execution_count": 14,
   "metadata": {},
   "outputs": [
    {
     "name": "stdout",
     "output_type": "stream",
     "text": [
      "                       hero1                 hero2              hero1_id  \\\n",
      "0              LITTLE, ABNER        PRINCESS ZANDA          little_abner   \n",
      "1              LITTLE, ABNER  BLACK PANTHER/T'CHAL          little_abner   \n",
      "2       BLACK PANTHER/T'CHAL        PRINCESS ZANDA  black_panther_t_chal   \n",
      "3              LITTLE, ABNER        PRINCESS ZANDA          little_abner   \n",
      "4              LITTLE, ABNER  BLACK PANTHER/T'CHAL          little_abner   \n",
      "...                      ...                   ...                   ...   \n",
      "574462  COLOSSUS II/PETER RA              CALLISTO  colossus_ii_peter_ra   \n",
      "574463              CALLISTO               ROGUE /              callisto   \n",
      "574464              CALLISTO              CALIBAN/              callisto   \n",
      "574465              CALIBAN/               ROGUE /               caliban   \n",
      "574466  HULK/DR. ROBERT BRUC     MARKS, DR. SHIELA   hulk_dr_robert_bruc   \n",
      "\n",
      "                    hero2_id  \n",
      "0             princess_zanda  \n",
      "1       black_panther_t_chal  \n",
      "2             princess_zanda  \n",
      "3             princess_zanda  \n",
      "4       black_panther_t_chal  \n",
      "...                      ...  \n",
      "574462              callisto  \n",
      "574463                 rogue  \n",
      "574464               caliban  \n",
      "574465                 rogue  \n",
      "574466       marks_dr_shiela  \n",
      "\n",
      "[574467 rows x 4 columns]\n"
     ]
    }
   ],
   "source": [
    "#add hero2_id to df\n",
    "df['hero2_id'] = hero2_id\n",
    "print(df)"
   ]
  },
  {
   "cell_type": "code",
   "execution_count": 15,
   "metadata": {},
   "outputs": [],
   "source": [
    "#save csv with the new columns added\n",
    "df.to_csv(r'../data/processed/hero_network_id.csv', index = False)"
   ]
  }
 ],
 "metadata": {
  "kernelspec": {
   "display_name": "Python 3",
   "language": "python",
   "name": "python3"
  },
  "language_info": {
   "codemirror_mode": {
    "name": "ipython",
    "version": 3
   },
   "file_extension": ".py",
   "mimetype": "text/x-python",
   "name": "python",
   "nbconvert_exporter": "python",
   "pygments_lexer": "ipython3",
   "version": "3.7.6"
  }
 },
 "nbformat": 4,
 "nbformat_minor": 4
}
