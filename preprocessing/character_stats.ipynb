{
 "cells": [
  {
   "cell_type": "markdown",
   "metadata": {},
   "source": [
    "## Create a clean ID for each character"
   ]
  },
  {
   "cell_type": "code",
   "execution_count": null,
   "metadata": {},
   "outputs": [],
   "source": [
    "import pandas as pd"
   ]
  },
  {
   "cell_type": "code",
   "execution_count": 1,
   "metadata": {},
   "outputs": [
    {
     "data": {
      "text/html": [
       "<div>\n",
       "<style scoped>\n",
       "    .dataframe tbody tr th:only-of-type {\n",
       "        vertical-align: middle;\n",
       "    }\n",
       "\n",
       "    .dataframe tbody tr th {\n",
       "        vertical-align: top;\n",
       "    }\n",
       "\n",
       "    .dataframe thead th {\n",
       "        text-align: right;\n",
       "    }\n",
       "</style>\n",
       "<table border=\"1\" class=\"dataframe\">\n",
       "  <thead>\n",
       "    <tr style=\"text-align: right;\">\n",
       "      <th></th>\n",
       "      <th>Name</th>\n",
       "      <th>Alignment</th>\n",
       "      <th>Intelligence</th>\n",
       "      <th>Strength</th>\n",
       "      <th>Speed</th>\n",
       "      <th>Durability</th>\n",
       "      <th>Power</th>\n",
       "      <th>Combat</th>\n",
       "      <th>Total</th>\n",
       "    </tr>\n",
       "  </thead>\n",
       "  <tbody>\n",
       "    <tr>\n",
       "      <th>0</th>\n",
       "      <td>3-D Man</td>\n",
       "      <td>good</td>\n",
       "      <td>50</td>\n",
       "      <td>31</td>\n",
       "      <td>43</td>\n",
       "      <td>32</td>\n",
       "      <td>25</td>\n",
       "      <td>52</td>\n",
       "      <td>233</td>\n",
       "    </tr>\n",
       "    <tr>\n",
       "      <th>1</th>\n",
       "      <td>A-Bomb</td>\n",
       "      <td>good</td>\n",
       "      <td>38</td>\n",
       "      <td>100</td>\n",
       "      <td>17</td>\n",
       "      <td>80</td>\n",
       "      <td>17</td>\n",
       "      <td>64</td>\n",
       "      <td>316</td>\n",
       "    </tr>\n",
       "    <tr>\n",
       "      <th>2</th>\n",
       "      <td>Abe Sapien</td>\n",
       "      <td>good</td>\n",
       "      <td>88</td>\n",
       "      <td>14</td>\n",
       "      <td>35</td>\n",
       "      <td>42</td>\n",
       "      <td>35</td>\n",
       "      <td>85</td>\n",
       "      <td>299</td>\n",
       "    </tr>\n",
       "    <tr>\n",
       "      <th>3</th>\n",
       "      <td>Abin Sur</td>\n",
       "      <td>good</td>\n",
       "      <td>50</td>\n",
       "      <td>90</td>\n",
       "      <td>53</td>\n",
       "      <td>64</td>\n",
       "      <td>84</td>\n",
       "      <td>65</td>\n",
       "      <td>406</td>\n",
       "    </tr>\n",
       "    <tr>\n",
       "      <th>4</th>\n",
       "      <td>Abomination</td>\n",
       "      <td>bad</td>\n",
       "      <td>63</td>\n",
       "      <td>80</td>\n",
       "      <td>53</td>\n",
       "      <td>90</td>\n",
       "      <td>55</td>\n",
       "      <td>95</td>\n",
       "      <td>436</td>\n",
       "    </tr>\n",
       "  </tbody>\n",
       "</table>\n",
       "</div>"
      ],
      "text/plain": [
       "          Name Alignment  Intelligence  Strength  Speed  Durability  Power  \\\n",
       "0      3-D Man      good            50        31     43          32     25   \n",
       "1       A-Bomb      good            38       100     17          80     17   \n",
       "2   Abe Sapien      good            88        14     35          42     35   \n",
       "3     Abin Sur      good            50        90     53          64     84   \n",
       "4  Abomination       bad            63        80     53          90     55   \n",
       "\n",
       "   Combat  Total  \n",
       "0      52    233  \n",
       "1      64    316  \n",
       "2      85    299  \n",
       "3      65    406  \n",
       "4      95    436  "
      ]
     },
     "execution_count": 1,
     "metadata": {},
     "output_type": "execute_result"
    }
   ],
   "source": [
    "df = pd.read_csv('../data/character_stats.csv')\n",
    "df.head()"
   ]
  },
  {
   "cell_type": "code",
   "execution_count": 2,
   "metadata": {},
   "outputs": [
    {
     "name": "stdout",
     "output_type": "stream",
     "text": [
      "0              3_d_man\n",
      "1               a_bomb\n",
      "2           abe_sapien\n",
      "3             abin_sur\n",
      "4          abomination\n",
      "            ...       \n",
      "606       yellowjacket\n",
      "607    yellowjacket_ii\n",
      "608               ymir\n",
      "609            zatanna\n",
      "610               zoom\n",
      "Name: Name, Length: 611, dtype: object\n"
     ]
    }
   ],
   "source": [
    "#create id for each character\n",
    "char_id = df.loc[:,'Name'].str.strip()\n",
    "char_id = char_id.str.lower() \\\n",
    "                    .str.replace(r\"[, '\\-\\!]\",\"_\",regex=True) \\\n",
    "                    .str.replace(r\"[_]+\", \"_\", regex=True) \\\n",
    "                    .str.strip(\"_\")\n",
    "print(char_id)"
   ]
  },
  {
   "cell_type": "code",
   "execution_count": 3,
   "metadata": {},
   "outputs": [
    {
     "name": "stdout",
     "output_type": "stream",
     "text": [
      "                Name Alignment  Intelligence  Strength  Speed  Durability  \\\n",
      "0            3-D Man      good            50        31     43          32   \n",
      "1             A-Bomb      good            38       100     17          80   \n",
      "2         Abe Sapien      good            88        14     35          42   \n",
      "3           Abin Sur      good            50        90     53          64   \n",
      "4        Abomination       bad            63        80     53          90   \n",
      "..               ...       ...           ...       ...    ...         ...   \n",
      "606     Yellowjacket      good            88        10     12          28   \n",
      "607  Yellowjacket II      good            50        10     35          28   \n",
      "608             Ymir      good            50       100     27         100   \n",
      "609          Zatanna      good            75        10     23          28   \n",
      "610             Zoom       bad            50        10    100          28   \n",
      "\n",
      "     Power  Combat  Total     Character ID  \n",
      "0       25      52    233          3_d_man  \n",
      "1       17      64    316           a_bomb  \n",
      "2       35      85    299       abe_sapien  \n",
      "3       84      65    406         abin_sur  \n",
      "4       55      95    436      abomination  \n",
      "..     ...     ...    ...              ...  \n",
      "606     12      14    164     yellowjacket  \n",
      "607     31      28    182  yellowjacket_ii  \n",
      "608     83      28    388             ymir  \n",
      "609    100      56    292          zatanna  \n",
      "610     72      28    288             zoom  \n",
      "\n",
      "[611 rows x 10 columns]\n"
     ]
    }
   ],
   "source": [
    "#add 'Character ID' column to df\n",
    "df['Character ID'] = char_id\n",
    "print(df)"
   ]
  },
  {
   "cell_type": "code",
   "execution_count": 4,
   "metadata": {},
   "outputs": [],
   "source": [
    "#save file\n",
    "df.to_csv(r'../data/processed/character_stats_id.csv', index = False)"
   ]
  }
 ],
 "metadata": {
  "kernelspec": {
   "display_name": "Python 3.7.6 64-bit ('base': conda)",
   "metadata": {
    "interpreter": {
     "hash": "7f92eed155a7eff10eae3d43382e03fbf37478cd9a086bf360d0c4fa35627eb7"
    }
   },
   "name": "python3"
  },
  "language_info": {
   "codemirror_mode": {
    "name": "ipython",
    "version": 3
   },
   "file_extension": ".py",
   "mimetype": "text/x-python",
   "name": "python",
   "nbconvert_exporter": "python",
   "pygments_lexer": "ipython3",
   "version": "3.7.6"
  },
  "orig_nbformat": 2
 },
 "nbformat": 4,
 "nbformat_minor": 2
}
