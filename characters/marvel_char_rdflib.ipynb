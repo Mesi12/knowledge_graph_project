{
 "cells": [
  {
   "cell_type": "code",
   "execution_count": 1,
   "id": "annual-female",
   "metadata": {},
   "outputs": [],
   "source": [
    "import pandas as pd #for handling csv and csv contents\n",
    "from rdflib import Graph, Literal, RDF, URIRef, Namespace #basic RDF handling\n",
    "from rdflib.namespace import FOAF , XSD, RDF, RDFS, OWL #most common namespaces\n",
    "import urllib.parse #for parsing strings to URI's\n",
    "import numpy as np"
   ]
  },
  {
   "cell_type": "code",
   "execution_count": 2,
   "id": "iraqi-chicago",
   "metadata": {},
   "outputs": [
    {
     "output_type": "execute_result",
     "data": {
      "text/plain": [
       "   ID         Name Alignment Gender EyeColor               Race HairColor  \\\n",
       "0   0       A-Bomb      good   Male   yellow              Human   No Hair   \n",
       "1   1   Abe Sapien      good   Male     blue      Icthyo Sapien   No Hair   \n",
       "2   2     Abin Sur      good   Male     blue            Ungaran   No Hair   \n",
       "3   3  Abomination       bad   Male    green  Human / Radiation   No Hair   \n",
       "4   4      Abraxas       bad   Male     blue      Cosmic Entity     Black   \n",
       "\n",
       "           Publisher SkinColor  Height  Weight      Hero ID  \n",
       "0      Marvel Comics       NaN   203.0   441.0       a_bomb  \n",
       "1  Dark Horse Comics      blue   191.0    65.0   abe_sapien  \n",
       "2          DC Comics       red   185.0    90.0     abin_sur  \n",
       "3      Marvel Comics       NaN   203.0   441.0  abomination  \n",
       "4      Marvel Comics       NaN     NaN     NaN      abraxas  "
      ],
      "text/html": "<div>\n<style scoped>\n    .dataframe tbody tr th:only-of-type {\n        vertical-align: middle;\n    }\n\n    .dataframe tbody tr th {\n        vertical-align: top;\n    }\n\n    .dataframe thead th {\n        text-align: right;\n    }\n</style>\n<table border=\"1\" class=\"dataframe\">\n  <thead>\n    <tr style=\"text-align: right;\">\n      <th></th>\n      <th>ID</th>\n      <th>Name</th>\n      <th>Alignment</th>\n      <th>Gender</th>\n      <th>EyeColor</th>\n      <th>Race</th>\n      <th>HairColor</th>\n      <th>Publisher</th>\n      <th>SkinColor</th>\n      <th>Height</th>\n      <th>Weight</th>\n      <th>Hero ID</th>\n    </tr>\n  </thead>\n  <tbody>\n    <tr>\n      <th>0</th>\n      <td>0</td>\n      <td>A-Bomb</td>\n      <td>good</td>\n      <td>Male</td>\n      <td>yellow</td>\n      <td>Human</td>\n      <td>No Hair</td>\n      <td>Marvel Comics</td>\n      <td>NaN</td>\n      <td>203.0</td>\n      <td>441.0</td>\n      <td>a_bomb</td>\n    </tr>\n    <tr>\n      <th>1</th>\n      <td>1</td>\n      <td>Abe Sapien</td>\n      <td>good</td>\n      <td>Male</td>\n      <td>blue</td>\n      <td>Icthyo Sapien</td>\n      <td>No Hair</td>\n      <td>Dark Horse Comics</td>\n      <td>blue</td>\n      <td>191.0</td>\n      <td>65.0</td>\n      <td>abe_sapien</td>\n    </tr>\n    <tr>\n      <th>2</th>\n      <td>2</td>\n      <td>Abin Sur</td>\n      <td>good</td>\n      <td>Male</td>\n      <td>blue</td>\n      <td>Ungaran</td>\n      <td>No Hair</td>\n      <td>DC Comics</td>\n      <td>red</td>\n      <td>185.0</td>\n      <td>90.0</td>\n      <td>abin_sur</td>\n    </tr>\n    <tr>\n      <th>3</th>\n      <td>3</td>\n      <td>Abomination</td>\n      <td>bad</td>\n      <td>Male</td>\n      <td>green</td>\n      <td>Human / Radiation</td>\n      <td>No Hair</td>\n      <td>Marvel Comics</td>\n      <td>NaN</td>\n      <td>203.0</td>\n      <td>441.0</td>\n      <td>abomination</td>\n    </tr>\n    <tr>\n      <th>4</th>\n      <td>4</td>\n      <td>Abraxas</td>\n      <td>bad</td>\n      <td>Male</td>\n      <td>blue</td>\n      <td>Cosmic Entity</td>\n      <td>Black</td>\n      <td>Marvel Comics</td>\n      <td>NaN</td>\n      <td>NaN</td>\n      <td>NaN</td>\n      <td>abraxas</td>\n    </tr>\n  </tbody>\n</table>\n</div>"
     },
     "metadata": {},
     "execution_count": 2
    }
   ],
   "source": [
    "#Read file\n",
    "df=pd.read_csv('marvel_characters_id.csv')\n",
    "df.head()"
   ]
  },
  {
   "cell_type": "code",
   "execution_count": 3,
   "id": "fitted-announcement",
   "metadata": {},
   "outputs": [],
   "source": [
    "#Define graph\n",
    "g = Graph()\n",
    "#Define namespaces\n",
    "dbo = Namespace('http://dbpedia.org/ontology/')\n",
    "schema = Namespace('http://schema.org/')\n",
    "wd = Namespace('https://www.wikidata.org/wiki/')\n",
    "ken_marvel = Namespace('https://w3id.org/um/ken4256/marvel/')\n",
    "ken = Namespace('https://w3id.org/um/ken4256/')\n",
    "ken_alignment = Namespace('https://w3id.org/um/ken4256/alignment/')\n",
    "ken_gender = Namespace('https://w3id.org/um/ken4256/gender/')\n",
    "ken_eyecolor = Namespace('https://w3id.org/um/ken4256/eyecolor/')\n",
    "ken_race = Namespace('https://w3id.org/um/ken4256/race/')\n",
    "ken_haircolor = Namespace('https://w3id.org/um/ken4256/haircolor/')\n",
    "ken_publisher = Namespace('https://w3id.org/um/ken4256/publisher/')\n",
    "ken_skincolor = Namespace('https://w3id.org/um/ken4256/skincolor/')\n",
    "cbo = Namespace('http://comicmeta.org/cbo/')"
   ]
  },
  {
   "cell_type": "code",
   "execution_count": 4,
   "metadata": {},
   "outputs": [],
   "source": [
    "#float(\"nan\") == float(\"nan\") \n",
    "import math\n",
    "#math.isnan(float(\"nan\"))"
   ]
  },
  {
   "cell_type": "code",
   "execution_count": 5,
   "id": "basic-devices",
   "metadata": {},
   "outputs": [],
   "source": [
    "g = Graph()\n",
    "for index, row in df.iterrows():\n",
    "    #output only the values that are not NaN\n",
    "    #based on previous checking: name and height has no NaN, but the other columns have\n",
    "    g.add((URIRef(ken_marvel+row['Hero ID']), RDF.type, URIRef(cbo.Character) )) \n",
    "    g.add((URIRef(ken_marvel+row['Hero ID']), FOAF.name, Literal(row['Name'], lang = 'en') ))\n",
    "    if (row['Alignment'] == row['Alignment']):\n",
    "        g.add((URIRef(ken_alignment+urllib.parse.quote(row['Alignment'])), RDFS.label, Literal(row['Alignment'], lang=\"en\")))\n",
    "        g.add((URIRef(ken_marvel+row['Hero ID']), ken.alignment, URIRef(ken_alignment+urllib.parse.quote(row['Alignment'])) ))\n",
    "    if (row['Gender'] == row['Gender']):\n",
    "        g.add((URIRef(ken_gender+urllib.parse.quote(row['Gender'])), RDFS.label, Literal(row['Gender'], lang=\"en\")))\n",
    "        g.add((URIRef(ken_marvel+row['Hero ID']), schema.gender, URIRef(ken_gender+urllib.parse.quote(row['Gender'])) ))\n",
    "    if (row['EyeColor'] == row['EyeColor']):\n",
    "        g.add((URIRef(ken_eyecolor+urllib.parse.quote(row['EyeColor'])), RDFS.label, Literal(row['EyeColor'], lang=\"en\")))\n",
    "        g.add((URIRef(ken_marvel+row['Hero ID']), dbo.eyeColor, URIRef(ken_eyecolor+urllib.parse.quote(row['EyeColor'])) ))\n",
    "    if (row['Race'] == row['Race']):\n",
    "        g.add((URIRef(ken_race+urllib.parse.quote(row['Race'])), RDFS.label, Literal(row['Race'], lang=\"en\")))\n",
    "        g.add((URIRef(ken_marvel+row['Hero ID']), wd.Q3254959, URIRef(ken_race+urllib.parse.quote(row['Race'])) ))\n",
    "    if (row['HairColor'] == row['HairColor']):\n",
    "        g.add((URIRef(ken_haircolor+urllib.parse.quote(row['HairColor'])), RDFS.label, Literal(row['HairColor'], lang=\"en\")))\n",
    "        g.add((URIRef(ken_marvel+row['Hero ID']), dbo.hairColor, URIRef(ken_haircolor+urllib.parse.quote(row['HairColor'])) ))\n",
    "    if (row['Publisher'] == row['Publisher']):\n",
    "        g.add((URIRef(ken_publisher+urllib.parse.quote(row['Publisher'])), RDFS.label, Literal(row['Publisher'], lang=\"en\")))\n",
    "        g.add((URIRef(ken_marvel+row['Hero ID']), schema.publisher, URIRef(ken_publisher+urllib.parse.quote(row['Publisher'])) ))\n",
    "    if (row['SkinColor'] == row['SkinColor']):\n",
    "        g.add((URIRef(ken_skincolor+urllib.parse.quote(row['SkinColor'])), RDFS.label, Literal(row['SkinColor'], lang=\"en\")))\n",
    "        g.add((URIRef(ken_marvel+row['Hero ID']), dbo.skinColor, URIRef(ken_skincolor+urllib.parse.quote(row['SkinColor'])) ))\n",
    "    g.add((URIRef(ken_marvel+row['Hero ID']), schema.height, Literal(row['Height'], datatype=XSD['float']) ))\n",
    "    if (not math.isnan(row['Weight'])):\n",
    "        g.add((URIRef(ken_marvel+row['Hero ID']), schema.weight, Literal(row['Weight'], datatype=XSD['float']) ))\n"
   ]
  },
  {
   "cell_type": "code",
   "execution_count": 6,
   "metadata": {},
   "outputs": [],
   "source": [
    "#Bind the namespaces for prefixes for a more readable output\n",
    "g.bind(\"foaf\", FOAF)\n",
    "g.bind(\"wd\",wd)\n",
    "g.bind(\"schema\",schema)\n",
    "g.bind(\"dbo\",dbo)\n",
    "g.bind(\"ken\",ken)\n",
    "g.bind(\"ken_marvel\",ken_marvel)\n",
    "g.bind(\"ken_alignment\",ken_alignment)\n",
    "g.bind(\"ken_gender\",ken_gender)\n",
    "g.bind(\"ken_eyecolor\",ken_eyecolor)\n",
    "g.bind(\"ken_race\",ken_race)\n",
    "g.bind(\"ken_haircolor\",ken_haircolor)\n",
    "g.bind(\"ken_publisher\",ken_publisher)\n",
    "g.bind(\"ken_skincolor\",ken_skincolor)\n",
    "g.bind(\"cbo\",cbo)"
   ]
  },
  {
   "cell_type": "code",
   "execution_count": 7,
   "metadata": {},
   "outputs": [],
   "source": [
    "#Define my own properties (with domain, range, comment)\n",
    "g.add((URIRef(ken.alignment), RDF.type, URIRef(OWL.DatatypeProperty)))\n",
    "g.add((URIRef(ken.alignment), RDFS.comment, Literal(\"Defines the superhero's alignment, i.e. if they are good, bad or neutral characters.\", lang=\"en\")))\n",
    "g.add((URIRef(ken.alignment), RDFS.domain, URIRef(cbo.Character)))\n",
    "g.add((URIRef(ken.alignment), RDFS.range, XSD['string']))"
   ]
  },
  {
   "cell_type": "code",
   "execution_count": 8,
   "id": "powerful-occurrence",
   "metadata": {
    "tags": []
   },
   "outputs": [],
   "source": [
    "#print(g.serialize(format='turtle').decode('UTF-8'))"
   ]
  },
  {
   "cell_type": "code",
   "execution_count": 9,
   "id": "experienced-wealth",
   "metadata": {},
   "outputs": [],
   "source": [
    "#Save output\n",
    "g.serialize('output_marvel_characters.ttl',format='turtle')"
   ]
  }
 ],
 "metadata": {
  "kernelspec": {
   "display_name": "Python 3",
   "language": "python",
   "name": "python3"
  },
  "language_info": {
   "codemirror_mode": {
    "name": "ipython",
    "version": 3
   },
   "file_extension": ".py",
   "mimetype": "text/x-python",
   "name": "python",
   "nbconvert_exporter": "python",
   "pygments_lexer": "ipython3",
   "version": "3.7.6"
  }
 },
 "nbformat": 4,
 "nbformat_minor": 5
}