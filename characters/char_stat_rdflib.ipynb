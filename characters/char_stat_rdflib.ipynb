{
 "cells": [
  {
   "cell_type": "code",
   "execution_count": 10,
   "id": "annual-female",
   "metadata": {},
   "outputs": [],
   "source": [
    "import pandas as pd #for handling csv and csv contents\n",
    "from rdflib import Graph, Literal, RDF, URIRef, Namespace #basic RDF handling\n",
    "from rdflib.namespace import FOAF , XSD, RDF, RDFS, OWL #most common namespaces\n",
    "import urllib.parse #for parsing strings to URI's"
   ]
  },
  {
   "cell_type": "code",
   "execution_count": 11,
   "id": "iraqi-chicago",
   "metadata": {},
   "outputs": [
    {
     "output_type": "execute_result",
     "data": {
      "text/plain": [
       "          Name Alignment  Intelligence  Strength  Speed  Durability  Power  \\\n",
       "0      3-D Man      good            50        31     43          32     25   \n",
       "1       A-Bomb      good            38       100     17          80     17   \n",
       "2   Abe Sapien      good            88        14     35          42     35   \n",
       "3     Abin Sur      good            50        90     53          64     84   \n",
       "4  Abomination       bad            63        80     53          90     55   \n",
       "\n",
       "   Combat  Total Character ID  \n",
       "0      52    233      3_d_man  \n",
       "1      64    316       a_bomb  \n",
       "2      85    299   abe_sapien  \n",
       "3      65    406     abin_sur  \n",
       "4      95    436  abomination  "
      ],
      "text/html": "<div>\n<style scoped>\n    .dataframe tbody tr th:only-of-type {\n        vertical-align: middle;\n    }\n\n    .dataframe tbody tr th {\n        vertical-align: top;\n    }\n\n    .dataframe thead th {\n        text-align: right;\n    }\n</style>\n<table border=\"1\" class=\"dataframe\">\n  <thead>\n    <tr style=\"text-align: right;\">\n      <th></th>\n      <th>Name</th>\n      <th>Alignment</th>\n      <th>Intelligence</th>\n      <th>Strength</th>\n      <th>Speed</th>\n      <th>Durability</th>\n      <th>Power</th>\n      <th>Combat</th>\n      <th>Total</th>\n      <th>Character ID</th>\n    </tr>\n  </thead>\n  <tbody>\n    <tr>\n      <th>0</th>\n      <td>3-D Man</td>\n      <td>good</td>\n      <td>50</td>\n      <td>31</td>\n      <td>43</td>\n      <td>32</td>\n      <td>25</td>\n      <td>52</td>\n      <td>233</td>\n      <td>3_d_man</td>\n    </tr>\n    <tr>\n      <th>1</th>\n      <td>A-Bomb</td>\n      <td>good</td>\n      <td>38</td>\n      <td>100</td>\n      <td>17</td>\n      <td>80</td>\n      <td>17</td>\n      <td>64</td>\n      <td>316</td>\n      <td>a_bomb</td>\n    </tr>\n    <tr>\n      <th>2</th>\n      <td>Abe Sapien</td>\n      <td>good</td>\n      <td>88</td>\n      <td>14</td>\n      <td>35</td>\n      <td>42</td>\n      <td>35</td>\n      <td>85</td>\n      <td>299</td>\n      <td>abe_sapien</td>\n    </tr>\n    <tr>\n      <th>3</th>\n      <td>Abin Sur</td>\n      <td>good</td>\n      <td>50</td>\n      <td>90</td>\n      <td>53</td>\n      <td>64</td>\n      <td>84</td>\n      <td>65</td>\n      <td>406</td>\n      <td>abin_sur</td>\n    </tr>\n    <tr>\n      <th>4</th>\n      <td>Abomination</td>\n      <td>bad</td>\n      <td>63</td>\n      <td>80</td>\n      <td>53</td>\n      <td>90</td>\n      <td>55</td>\n      <td>95</td>\n      <td>436</td>\n      <td>abomination</td>\n    </tr>\n  </tbody>\n</table>\n</div>"
     },
     "metadata": {},
     "execution_count": 11
    }
   ],
   "source": [
    "df=pd.read_csv('character_stats_id.csv')\n",
    "df.head()\n"
   ]
  },
  {
   "cell_type": "code",
   "execution_count": 12,
   "metadata": {},
   "outputs": [
    {
     "output_type": "execute_result",
     "data": {
      "text/plain": [
       "Name            0\n",
       "Alignment       3\n",
       "Intelligence    0\n",
       "Strength        0\n",
       "Speed           0\n",
       "Durability      0\n",
       "Power           0\n",
       "Combat          0\n",
       "Total           0\n",
       "Character ID    0\n",
       "dtype: int64"
      ]
     },
     "metadata": {},
     "execution_count": 12
    }
   ],
   "source": [
    "#Check for missing values\n",
    "df.isnull().sum()  "
   ]
  },
  {
   "cell_type": "code",
   "execution_count": 13,
   "id": "fitted-announcement",
   "metadata": {},
   "outputs": [],
   "source": [
    "#define graph \n",
    "g = Graph()\n",
    "#define namespaces\n",
    "dbo = Namespace('http://dbpedia.org/ontology/')\n",
    "schema = Namespace('http://schema.org/')\n",
    "wd = Namespace('https://www.wikidata.org/wiki/')\n",
    "ken = Namespace('https://w3id.org/um/ken4256/')\n",
    "ken_character = Namespace('https://w3id.org/um/ken4256/character/')\n",
    "ken_char_alignment =  Namespace('https://w3id.org/um/ken4256/alignment/')\n",
    "cbo = Namespace('http://comicmeta.org/cbo/')"
   ]
  },
  {
   "cell_type": "code",
   "execution_count": 14,
   "id": "basic-devices",
   "metadata": {},
   "outputs": [],
   "source": [
    "#Add triples to the graph\n",
    "\n",
    "g = Graph()\n",
    "for index, row in df.iterrows():\n",
    "    g.add((URIRef(ken_character+row['Character ID']), RDF.type, URIRef(cbo.Character) )) \n",
    "    g.add((URIRef(ken_character+row['Character ID']), FOAF.name, Literal(row['Name'], lang = 'en') ))\n",
    "    if (row['Alignment'] == row['Alignment']):\n",
    "        g.add((URIRef(ken_character+row['Character ID']), ken.alignment, URIRef(ken_char_alignment+urllib.parse.quote(row['Alignment'])) ))\n",
    "    g.add((URIRef(ken_character+row['Character ID']), wd.Q83500, Literal(int(row['Intelligence']), datatype=XSD['int']) ))\n",
    "    g.add((URIRef(ken_character+row['Character ID']), wd.Q4386945, Literal(int(row['Strength']), datatype=XSD['int']) )) \n",
    "    g.add((URIRef(ken_character+row['Character ID']), wd.Q3711325, Literal(int(row['Speed']), datatype=XSD['int']) ))\n",
    "    g.add((URIRef(ken_character+row['Character ID']), wd.Q47089006, Literal(int(row['Durability']), datatype=XSD['int']) )) \n",
    "    g.add((URIRef(ken_character+row['Character ID']), ken.power, Literal(int(row['Power']), datatype=XSD['int']) ))\n",
    "    g.add((URIRef(ken_character+row['Character ID']), wd.Q650711, Literal(int(row['Combat']), datatype=XSD['int']) ))\n",
    "    g.add((URIRef(ken_character+row['Character ID']), ken.total, Literal(int(row['Total']), datatype=XSD['int']) ))\n"
   ]
  },
  {
   "cell_type": "code",
   "execution_count": 15,
   "metadata": {},
   "outputs": [],
   "source": [
    "#Define my own properties (with domain range, comment)\n",
    "g.add((URIRef(ken.alignment), RDF.type, URIRef(OWL.DatatypeProperty)))\n",
    "g.add((URIRef(ken.power), RDF.type, URIRef(OWL.DatatypeProperty)))\n",
    "g.add((URIRef(ken.total), RDF.type, URIRef(OWL.DatatypeProperty)))\n",
    "g.add((URIRef(ken.alignment), RDFS.comment, Literal(\"Defines the superhero's alignment, i.e. if they are good or bad characters.\", lang=\"en\")))\n",
    "g.add((URIRef(ken.power), RDFS.comment, Literal(\"Defines the magnitude of the superhero's power.\", lang=\"en\")))\n",
    "g.add((URIRef(ken.total), RDFS.comment, Literal(\"Defines how many points each superhero scores in total based on the aforementioned criteria.\", lang=\"en\")))\n",
    "g.add((URIRef(ken.alignment), RDFS.domain, URIRef(cbo.Character)))\n",
    "g.add((URIRef(ken.power), RDFS.domain, URIRef(cbo.Character)))\n",
    "g.add((URIRef(ken.total), RDFS.domain, URIRef(cbo.Character)))\n",
    "g.add((URIRef(ken.alignment), RDFS.range, XSD['string']))\n",
    "g.add((URIRef(ken.power), RDFS.range, XSD['int']))\n",
    "g.add((URIRef(ken.total), RDFS.range, XSD['int']))\n"
   ]
  },
  {
   "cell_type": "code",
   "execution_count": 16,
   "metadata": {},
   "outputs": [],
   "source": [
    "#Bind the namespaces for prefixes for a more readable output\n",
    "g.bind(\"foaf\", FOAF)\n",
    "g.bind(\"wd\",wd)\n",
    "g.bind(\"schema\",schema)\n",
    "g.bind(\"dbo\",dbo)\n",
    "g.bind(\"ken\",ken)\n",
    "g.bind(\"ken_character\",ken_character)\n",
    "g.bind(\"ken_char_alignment\",ken_char_alignment)\n",
    "g.bind(\"cbo\",cbo)"
   ]
  },
  {
   "cell_type": "code",
   "execution_count": 17,
   "id": "powerful-occurrence",
   "metadata": {
    "tags": []
   },
   "outputs": [],
   "source": [
    "#print(g.serialize(format='turtle').decode('UTF-8'))"
   ]
  },
  {
   "cell_type": "code",
   "execution_count": 18,
   "id": "experienced-wealth",
   "metadata": {},
   "outputs": [],
   "source": [
    "#Save output\n",
    "g.serialize('output_characters.ttl',format='turtle')"
   ]
  },
  {
   "cell_type": "code",
   "execution_count": null,
   "id": "considerable-assist",
   "metadata": {},
   "outputs": [],
   "source": []
  }
 ],
 "metadata": {
  "kernelspec": {
   "display_name": "Python 3",
   "language": "python",
   "name": "python3"
  },
  "language_info": {
   "codemirror_mode": {
    "name": "ipython",
    "version": 3
   },
   "file_extension": ".py",
   "mimetype": "text/x-python",
   "name": "python",
   "nbconvert_exporter": "python",
   "pygments_lexer": "ipython3",
   "version": "3.7.6"
  }
 },
 "nbformat": 4,
 "nbformat_minor": 5
}