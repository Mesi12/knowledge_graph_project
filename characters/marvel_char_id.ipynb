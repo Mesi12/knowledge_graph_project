{
 "metadata": {
  "language_info": {
   "codemirror_mode": {
    "name": "ipython",
    "version": 3
   },
   "file_extension": ".py",
   "mimetype": "text/x-python",
   "name": "python",
   "nbconvert_exporter": "python",
   "pygments_lexer": "ipython3",
   "version": "3.7.6"
  },
  "orig_nbformat": 2,
  "kernelspec": {
   "name": "python3",
   "display_name": "Python 3.7.6 64-bit ('base': conda)",
   "metadata": {
    "interpreter": {
     "hash": "7f92eed155a7eff10eae3d43382e03fbf37478cd9a086bf360d0c4fa35627eb7"
    }
   }
  }
 },
 "nbformat": 4,
 "nbformat_minor": 2,
 "cells": [
  {
   "cell_type": "code",
   "execution_count": 16,
   "metadata": {},
   "outputs": [
    {
     "output_type": "execute_result",
     "data": {
      "text/plain": [
       "   ID         Name Alignment Gender EyeColor               Race HairColor  \\\n",
       "0   0       A-Bomb      good   Male   yellow              Human   No Hair   \n",
       "1   1   Abe Sapien      good   Male     blue      Icthyo Sapien   No Hair   \n",
       "2   2     Abin Sur      good   Male     blue            Ungaran   No Hair   \n",
       "3   3  Abomination       bad   Male    green  Human / Radiation   No Hair   \n",
       "4   4      Abraxas       bad   Male     blue      Cosmic Entity     Black   \n",
       "\n",
       "           Publisher SkinColor  Height  Weight  \n",
       "0      Marvel Comics       NaN   203.0   441.0  \n",
       "1  Dark Horse Comics      blue   191.0    65.0  \n",
       "2          DC Comics       red   185.0    90.0  \n",
       "3      Marvel Comics       NaN   203.0   441.0  \n",
       "4      Marvel Comics       NaN   -99.0   -99.0  "
      ],
      "text/html": "<div>\n<style scoped>\n    .dataframe tbody tr th:only-of-type {\n        vertical-align: middle;\n    }\n\n    .dataframe tbody tr th {\n        vertical-align: top;\n    }\n\n    .dataframe thead th {\n        text-align: right;\n    }\n</style>\n<table border=\"1\" class=\"dataframe\">\n  <thead>\n    <tr style=\"text-align: right;\">\n      <th></th>\n      <th>ID</th>\n      <th>Name</th>\n      <th>Alignment</th>\n      <th>Gender</th>\n      <th>EyeColor</th>\n      <th>Race</th>\n      <th>HairColor</th>\n      <th>Publisher</th>\n      <th>SkinColor</th>\n      <th>Height</th>\n      <th>Weight</th>\n    </tr>\n  </thead>\n  <tbody>\n    <tr>\n      <th>0</th>\n      <td>0</td>\n      <td>A-Bomb</td>\n      <td>good</td>\n      <td>Male</td>\n      <td>yellow</td>\n      <td>Human</td>\n      <td>No Hair</td>\n      <td>Marvel Comics</td>\n      <td>NaN</td>\n      <td>203.0</td>\n      <td>441.0</td>\n    </tr>\n    <tr>\n      <th>1</th>\n      <td>1</td>\n      <td>Abe Sapien</td>\n      <td>good</td>\n      <td>Male</td>\n      <td>blue</td>\n      <td>Icthyo Sapien</td>\n      <td>No Hair</td>\n      <td>Dark Horse Comics</td>\n      <td>blue</td>\n      <td>191.0</td>\n      <td>65.0</td>\n    </tr>\n    <tr>\n      <th>2</th>\n      <td>2</td>\n      <td>Abin Sur</td>\n      <td>good</td>\n      <td>Male</td>\n      <td>blue</td>\n      <td>Ungaran</td>\n      <td>No Hair</td>\n      <td>DC Comics</td>\n      <td>red</td>\n      <td>185.0</td>\n      <td>90.0</td>\n    </tr>\n    <tr>\n      <th>3</th>\n      <td>3</td>\n      <td>Abomination</td>\n      <td>bad</td>\n      <td>Male</td>\n      <td>green</td>\n      <td>Human / Radiation</td>\n      <td>No Hair</td>\n      <td>Marvel Comics</td>\n      <td>NaN</td>\n      <td>203.0</td>\n      <td>441.0</td>\n    </tr>\n    <tr>\n      <th>4</th>\n      <td>4</td>\n      <td>Abraxas</td>\n      <td>bad</td>\n      <td>Male</td>\n      <td>blue</td>\n      <td>Cosmic Entity</td>\n      <td>Black</td>\n      <td>Marvel Comics</td>\n      <td>NaN</td>\n      <td>-99.0</td>\n      <td>-99.0</td>\n    </tr>\n  </tbody>\n</table>\n</div>"
     },
     "metadata": {},
     "execution_count": 16
    }
   ],
   "source": [
    "import pandas as pd\n",
    "import numpy as np\n",
    "#Read in the file and replace '-' with NaN for missing values (in order to be able to count them later)\n",
    "df = pd.read_csv('marvel_characters_info.csv',na_values=['-'])\n",
    "df.head()"
   ]
  },
  {
   "cell_type": "code",
   "execution_count": 17,
   "metadata": {},
   "outputs": [
    {
     "output_type": "execute_result",
     "data": {
      "text/plain": [
       "ID             0\n",
       "Name           0\n",
       "Alignment      7\n",
       "Gender        29\n",
       "EyeColor     172\n",
       "Race         304\n",
       "HairColor    172\n",
       "Publisher     15\n",
       "SkinColor    662\n",
       "Height       217\n",
       "Weight       239\n",
       "dtype: int64"
      ]
     },
     "metadata": {},
     "execution_count": 17
    }
   ],
   "source": [
    "#Replace -99 with NaN for height and weight values\n",
    "df = df.replace(-99.0,np.nan)\n",
    "#Check for missing values (Number of missing values per column) - NaN or empty\n",
    "df.isnull().sum()  "
   ]
  },
  {
   "cell_type": "code",
   "execution_count": 18,
   "metadata": {},
   "outputs": [
    {
     "output_type": "stream",
     "name": "stdout",
     "text": [
      "0               a_bomb\n1           abe_sapien\n2             abin_sur\n3          abomination\n4              abraxas\n            ...       \n729    yellowjacket_ii\n730               ymir\n731               yoda\n732            zatanna\n733               zoom\nName: Name, Length: 734, dtype: object\n"
     ]
    }
   ],
   "source": [
    "#create an id for each hero (for clean iri)\n",
    "char_id = df.loc[:,'Name'].str.strip()\n",
    "char_id = char_id.str.lower() \\\n",
    "                    .str.replace(r\"[, '\\-\\!]\",\"_\",regex=True) \\\n",
    "                    .str.replace(r\"[_]+\", \"_\", regex=True) \\\n",
    "                    .str.strip(\"_\")\n",
    "print(char_id)"
   ]
  },
  {
   "cell_type": "code",
   "execution_count": 19,
   "metadata": {},
   "outputs": [
    {
     "output_type": "stream",
     "name": "stdout",
     "text": [
      "      ID             Name Alignment  Gender EyeColor               Race  \\\n0      0           A-Bomb      good    Male   yellow              Human   \n1      1       Abe Sapien      good    Male     blue      Icthyo Sapien   \n2      2         Abin Sur      good    Male     blue            Ungaran   \n3      3      Abomination       bad    Male    green  Human / Radiation   \n4      4          Abraxas       bad    Male     blue      Cosmic Entity   \n..   ...              ...       ...     ...      ...                ...   \n729  729  Yellowjacket II      good  Female     blue              Human   \n730  730             Ymir      good    Male    white        Frost Giant   \n731  731             Yoda      good    Male    brown     Yoda's species   \n732  732          Zatanna      good  Female     blue              Human   \n733  733             Zoom       bad    Male      red                NaN   \n\n            HairColor          Publisher SkinColor  Height  Weight  \\\n0             No Hair      Marvel Comics       NaN   203.0   441.0   \n1             No Hair  Dark Horse Comics      blue   191.0    65.0   \n2             No Hair          DC Comics       red   185.0    90.0   \n3             No Hair      Marvel Comics       NaN   203.0   441.0   \n4               Black      Marvel Comics       NaN     NaN     NaN   \n..                ...                ...       ...     ...     ...   \n729  Strawberry Blond      Marvel Comics       NaN   165.0    52.0   \n730           No Hair      Marvel Comics     white   304.8     NaN   \n731             White       George Lucas     green    66.0    17.0   \n732             Black          DC Comics       NaN   170.0    57.0   \n733             Brown          DC Comics       NaN   185.0    81.0   \n\n             Hero ID  \n0             a_bomb  \n1         abe_sapien  \n2           abin_sur  \n3        abomination  \n4            abraxas  \n..               ...  \n729  yellowjacket_ii  \n730             ymir  \n731             yoda  \n732          zatanna  \n733             zoom  \n\n[734 rows x 12 columns]\n"
     ]
    }
   ],
   "source": [
    "#add column 'Hero ID' to df\n",
    "df['Hero ID'] = char_id\n",
    "print(df)"
   ]
  },
  {
   "cell_type": "code",
   "execution_count": 20,
   "metadata": {},
   "outputs": [],
   "source": [
    "#save file\n",
    "df.to_csv(r'marvel_characters_id.csv', index = False)"
   ]
  },
  {
   "cell_type": "code",
   "execution_count": null,
   "metadata": {},
   "outputs": [],
   "source": []
  }
 ]
}