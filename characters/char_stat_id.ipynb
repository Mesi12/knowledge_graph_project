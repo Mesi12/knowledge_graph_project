{
 "metadata": {
  "language_info": {
   "codemirror_mode": {
    "name": "ipython",
    "version": 3
   },
   "file_extension": ".py",
   "mimetype": "text/x-python",
   "name": "python",
   "nbconvert_exporter": "python",
   "pygments_lexer": "ipython3",
   "version": "3.7.6"
  },
  "orig_nbformat": 2,
  "kernelspec": {
   "name": "python3",
   "display_name": "Python 3.7.6 64-bit ('base': conda)",
   "metadata": {
    "interpreter": {
     "hash": "7f92eed155a7eff10eae3d43382e03fbf37478cd9a086bf360d0c4fa35627eb7"
    }
   }
  }
 },
 "nbformat": 4,
 "nbformat_minor": 2,
 "cells": [
  {
   "cell_type": "code",
   "execution_count": 1,
   "metadata": {},
   "outputs": [
    {
     "output_type": "execute_result",
     "data": {
      "text/plain": [
       "          Name Alignment  Intelligence  Strength  Speed  Durability  Power  \\\n",
       "0      3-D Man      good            50        31     43          32     25   \n",
       "1       A-Bomb      good            38       100     17          80     17   \n",
       "2   Abe Sapien      good            88        14     35          42     35   \n",
       "3     Abin Sur      good            50        90     53          64     84   \n",
       "4  Abomination       bad            63        80     53          90     55   \n",
       "\n",
       "   Combat  Total  \n",
       "0      52    233  \n",
       "1      64    316  \n",
       "2      85    299  \n",
       "3      65    406  \n",
       "4      95    436  "
      ],
      "text/html": "<div>\n<style scoped>\n    .dataframe tbody tr th:only-of-type {\n        vertical-align: middle;\n    }\n\n    .dataframe tbody tr th {\n        vertical-align: top;\n    }\n\n    .dataframe thead th {\n        text-align: right;\n    }\n</style>\n<table border=\"1\" class=\"dataframe\">\n  <thead>\n    <tr style=\"text-align: right;\">\n      <th></th>\n      <th>Name</th>\n      <th>Alignment</th>\n      <th>Intelligence</th>\n      <th>Strength</th>\n      <th>Speed</th>\n      <th>Durability</th>\n      <th>Power</th>\n      <th>Combat</th>\n      <th>Total</th>\n    </tr>\n  </thead>\n  <tbody>\n    <tr>\n      <th>0</th>\n      <td>3-D Man</td>\n      <td>good</td>\n      <td>50</td>\n      <td>31</td>\n      <td>43</td>\n      <td>32</td>\n      <td>25</td>\n      <td>52</td>\n      <td>233</td>\n    </tr>\n    <tr>\n      <th>1</th>\n      <td>A-Bomb</td>\n      <td>good</td>\n      <td>38</td>\n      <td>100</td>\n      <td>17</td>\n      <td>80</td>\n      <td>17</td>\n      <td>64</td>\n      <td>316</td>\n    </tr>\n    <tr>\n      <th>2</th>\n      <td>Abe Sapien</td>\n      <td>good</td>\n      <td>88</td>\n      <td>14</td>\n      <td>35</td>\n      <td>42</td>\n      <td>35</td>\n      <td>85</td>\n      <td>299</td>\n    </tr>\n    <tr>\n      <th>3</th>\n      <td>Abin Sur</td>\n      <td>good</td>\n      <td>50</td>\n      <td>90</td>\n      <td>53</td>\n      <td>64</td>\n      <td>84</td>\n      <td>65</td>\n      <td>406</td>\n    </tr>\n    <tr>\n      <th>4</th>\n      <td>Abomination</td>\n      <td>bad</td>\n      <td>63</td>\n      <td>80</td>\n      <td>53</td>\n      <td>90</td>\n      <td>55</td>\n      <td>95</td>\n      <td>436</td>\n    </tr>\n  </tbody>\n</table>\n</div>"
     },
     "metadata": {},
     "execution_count": 1
    }
   ],
   "source": [
    "import pandas as pd\n",
    "df = pd.read_csv('character_stats.csv')\n",
    "df.head()\n"
   ]
  },
  {
   "cell_type": "code",
   "execution_count": 2,
   "metadata": {},
   "outputs": [
    {
     "output_type": "stream",
     "name": "stdout",
     "text": [
      "0              3_d_man\n1               a_bomb\n2           abe_sapien\n3             abin_sur\n4          abomination\n            ...       \n606       yellowjacket\n607    yellowjacket_ii\n608               ymir\n609            zatanna\n610               zoom\nName: Name, Length: 611, dtype: object\n"
     ]
    }
   ],
   "source": [
    "#create id for each character\n",
    "char_id = df.loc[:,'Name'].str.strip()\n",
    "char_id = char_id.str.lower() \\\n",
    "                    .str.replace(r\"[, '\\-\\!]\",\"_\",regex=True) \\\n",
    "                    .str.replace(r\"[_]+\", \"_\", regex=True) \\\n",
    "                    .str.strip(\"_\")\n",
    "print(char_id)"
   ]
  },
  {
   "cell_type": "code",
   "execution_count": 3,
   "metadata": {},
   "outputs": [
    {
     "output_type": "stream",
     "name": "stdout",
     "text": [
      "                Name Alignment  Intelligence  Strength  Speed  Durability  \\\n0            3-D Man      good            50        31     43          32   \n1             A-Bomb      good            38       100     17          80   \n2         Abe Sapien      good            88        14     35          42   \n3           Abin Sur      good            50        90     53          64   \n4        Abomination       bad            63        80     53          90   \n..               ...       ...           ...       ...    ...         ...   \n606     Yellowjacket      good            88        10     12          28   \n607  Yellowjacket II      good            50        10     35          28   \n608             Ymir      good            50       100     27         100   \n609          Zatanna      good            75        10     23          28   \n610             Zoom       bad            50        10    100          28   \n\n     Power  Combat  Total     Character ID  \n0       25      52    233          3_d_man  \n1       17      64    316           a_bomb  \n2       35      85    299       abe_sapien  \n3       84      65    406         abin_sur  \n4       55      95    436      abomination  \n..     ...     ...    ...              ...  \n606     12      14    164     yellowjacket  \n607     31      28    182  yellowjacket_ii  \n608     83      28    388             ymir  \n609    100      56    292          zatanna  \n610     72      28    288             zoom  \n\n[611 rows x 10 columns]\n"
     ]
    }
   ],
   "source": [
    "#add 'Character ID' column to df\n",
    "df['Character ID'] = char_id\n",
    "print(df)"
   ]
  },
  {
   "cell_type": "code",
   "execution_count": 4,
   "metadata": {},
   "outputs": [],
   "source": [
    "#save file\n",
    "df.to_csv(r'character_stats_id.csv', index = False)"
   ]
  }
 ]
}