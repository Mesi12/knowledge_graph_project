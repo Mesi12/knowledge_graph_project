{
 "metadata": {
  "language_info": {
   "codemirror_mode": {
    "name": "ipython",
    "version": 3
   },
   "file_extension": ".py",
   "mimetype": "text/x-python",
   "name": "python",
   "nbconvert_exporter": "python",
   "pygments_lexer": "ipython3",
   "version": "3.7.6"
  },
  "orig_nbformat": 2,
  "kernelspec": {
   "name": "python3",
   "display_name": "Python 3.7.6 64-bit ('base': conda)",
   "metadata": {
    "interpreter": {
     "hash": "7f92eed155a7eff10eae3d43382e03fbf37478cd9a086bf360d0c4fa35627eb7"
    }
   }
  }
 },
 "nbformat": 4,
 "nbformat_minor": 2,
 "cells": [
  {
   "cell_type": "code",
   "execution_count": 1,
   "metadata": {},
   "outputs": [],
   "source": [
    "import pandas as pd \n",
    "import json\n",
    "\n",
    "from rdflib import Graph, Literal, RDF, URIRef, Namespace #basic RDF handling\n",
    "from rdflib.namespace import FOAF , XSD, RDF, RDFS, OWL #most common namespaces\n",
    "import urllib.parse #for parsing strings to URI's\n"
   ]
  },
  {
   "cell_type": "code",
   "execution_count": 2,
   "metadata": {},
   "outputs": [],
   "source": [
    "#load the .json file\n",
    "with open('movie_character.json') as f:\n",
    "    data = json.load(f)"
   ]
  },
  {
   "cell_type": "code",
   "execution_count": 3,
   "metadata": {},
   "outputs": [
    {
     "output_type": "stream",
     "name": "stdout",
     "text": [
      "{'Gamora', 'Senator Stern', 'Pepper Potts', 'Black Panther', 'Quicksilver', 'Sif', 'Heinz Kruger', 'Obadiah Stane', 'Carina', 'Paxton', 'Agent Coulson', 'Ant-Man', 'Ned Leeds', 'Howard Stark', 'Luis', 'Nakia', 'Mysterio', 'Iron Man', 'Yon-Rogg', 'Justin Hammer', 'Captain Marvel', 'Dr. Abraham Erskine', 'Erik Killmonger', 'Hulk', 'Nebula', 'Grandmaster', 'Wasp', 'Ego', \"General 'Thunderbolt' Ross\", 'Ivan Vanko', 'Christine Everhart', 'Malekith', 'General Gabriel', 'Abu Bakaar', 'Dr. Arnim Zola', 'Valkyrie', 'Savin', 'Flash', 'Shuri', 'Hogun', 'Falcon', 'Liz', 'Leonard', 'Odin', 'On-Set Rocket', 'Drax', 'Yellowjacket', 'Raza', 'Jane Foster', 'Major Kathleen Sparr', 'Frigga', 'Captain America', 'Peggy Carter', 'Minn-Erva', 'Happy Hogan', 'Scarlet Witch', 'General Joe Greller', 'Hogan', 'Mantis', 'Zuri', 'Cassie', 'Keller', 'Volstagg', 'Ghost', 'Agent Maria Hill', \"James Buchanan 'Bucky' Barnes\", 'Okoye', 'Erik Selvig', 'Doctor Strange', 'Winter Soldier', 'Mordo', 'Sonny Burch', 'Nick Fury', 'Samuel Sterns', 'Betty Brant', 'Korath', 'Yondu', 'Emil Blonsky', 'Loki', 'Trevor Slattery', 'Maya Hansen', 'Brandt', 'May Parker', 'Agent Phil Coulson', 'Thor', 'Ronan', 'Selvig', 'Hawkeye', 'Spider-Man', 'Hamir', 'Wong', 'Johann Schmidt/Red Skull', 'Kaecilius', 'Maggie', 'Vulture', 'Isabela Alvarez', 'Agent Sitwell', 'Skurge', 'Heimdall', 'Ramonda', 'Yinsen', 'Vision', 'Stanley', 'Darcy Lewis', 'Black Widow', 'Aldrich Killian', 'Star-Lord', 'Hope van Dyne', 'War Machine', 'Fandral', 'Ultron', 'Hela', 'Colonel Chester Phillips', 'Betty Ross', 'King Laufey'}\n"
     ]
    }
   ],
   "source": [
    "#create a set for the distinct characters that appear in the file\n",
    "characters = set()\n",
    "for movie in data['movies']:\n",
    "    for character in movie['main characters']:\n",
    "        characters.add(character)\n",
    "print(characters)"
   ]
  },
  {
   "cell_type": "code",
   "execution_count": 4,
   "metadata": {},
   "outputs": [],
   "source": [
    "#define function to clean the names of the characters\n",
    "def clean_hero(name):\n",
    "    cleaned_name = name\n",
    "    cleaned_name = cleaned_name.lower() \\\n",
    "                    .replace(\" \",\"_\").replace(\"/\",\"_\").replace(\",\",\"_\").replace(\"-\",\"_\") \\\n",
    "                    .replace(\"[_]+\", \"_\") \\\n",
    "                    .strip(\"_\")\n",
    "    return cleaned_name\n"
   ]
  },
  {
   "cell_type": "code",
   "execution_count": 5,
   "metadata": {},
   "outputs": [],
   "source": [
    "#define graph\n",
    "g = Graph()\n",
    "#define namespaces\n",
    "dbo = Namespace('http://dbpedia.org/ontology/')\n",
    "schema = Namespace('http://schema.org/')\n",
    "wd = Namespace('https://www.wikidata.org/wiki/')\n",
    "ken = Namespace('https://w3id.org/um/ken4256/')\n",
    "ken_characters = Namespace('https://w3id.org/um/ken4256/characters/')\n",
    "ken_movies = Namespace('https://w3id.org/um/ken4256/movies/')\n",
    "cbo = Namespace('http://comicmeta.org/cbo/')"
   ]
  },
  {
   "cell_type": "code",
   "execution_count": 6,
   "metadata": {},
   "outputs": [],
   "source": [
    "#build RDF with triples (add label and type for each character from the created characters set)\n",
    "g = Graph()\n",
    "for character in characters:\n",
    "    g.add((URIRef(ken_characters+urllib.parse.quote(character,safe='')), RDFS.label, Literal(character, lang=\"en\") ))\n",
    "    g.add((URIRef(ken_characters+urllib.parse.quote(character,safe='')), RDF.type, URIRef(cbo.Character) ))"
   ]
  },
  {
   "cell_type": "code",
   "execution_count": 7,
   "metadata": {},
   "outputs": [],
   "source": [
    "#Bind the namespaces for prefixes for a more readable output\n",
    "g.bind(\"foaf\", FOAF)\n",
    "g.bind(\"wd\",wd)\n",
    "g.bind(\"schema\",schema)\n",
    "g.bind(\"dbo\",dbo)\n",
    "g.bind(\"ken\",ken)\n",
    "g.bind(\"ken_characters\",ken_characters)\n",
    "g.bind(\"ken_movies\",ken_movies)\n",
    "g.bind(\"cbo\",cbo)"
   ]
  },
  {
   "cell_type": "code",
   "execution_count": 8,
   "metadata": {},
   "outputs": [],
   "source": [
    "#print(g.serialize(format='turtle').decode('UTF-8'))"
   ]
  },
  {
   "cell_type": "code",
   "execution_count": 9,
   "metadata": {},
   "outputs": [],
   "source": [
    "#Save output\n",
    "g.serialize('output_character_label.ttl',format='turtle')"
   ]
  },
  {
   "cell_type": "code",
   "execution_count": null,
   "metadata": {},
   "outputs": [],
   "source": []
  }
 ]
}