{
 "cells": [
  {
   "cell_type": "code",
   "execution_count": 1,
   "metadata": {},
   "outputs": [
    {
     "output_type": "execute_result",
     "data": {
      "text/plain": [
       "   id                      Original Title Company  Rate  Metascore  Minutes  \\\n",
       "0   1                            Iron Man  Marvel   7.9         79      126   \n",
       "1   2                 The Incredible Hulk  Marvel   6.7         61      112   \n",
       "2   3                          Iron Man 2  Marvel   7.0         57      124   \n",
       "3   4                                Thor  Marvel   7.0         57      115   \n",
       "4   5  Captain America: The First Avenger  Marvel   6.9         66      124   \n",
       "\n",
       "   Release     Budget  Opening Weekend USA  Gross USA  Gross Worldwide  \n",
       "0     2008  140000000             98618668  318604126        585366247  \n",
       "1     2008  150000000             55414050  134806913        263427551  \n",
       "2     2010  200000000            128122480  312433331        623933331  \n",
       "3     2011  150000000             65723338  181030624        449326618  \n",
       "4     2011  140000000             65058524  176654505        370569774  "
      ],
      "text/html": "<div>\n<style scoped>\n    .dataframe tbody tr th:only-of-type {\n        vertical-align: middle;\n    }\n\n    .dataframe tbody tr th {\n        vertical-align: top;\n    }\n\n    .dataframe thead th {\n        text-align: right;\n    }\n</style>\n<table border=\"1\" class=\"dataframe\">\n  <thead>\n    <tr style=\"text-align: right;\">\n      <th></th>\n      <th>id</th>\n      <th>Original Title</th>\n      <th>Company</th>\n      <th>Rate</th>\n      <th>Metascore</th>\n      <th>Minutes</th>\n      <th>Release</th>\n      <th>Budget</th>\n      <th>Opening Weekend USA</th>\n      <th>Gross USA</th>\n      <th>Gross Worldwide</th>\n    </tr>\n  </thead>\n  <tbody>\n    <tr>\n      <th>0</th>\n      <td>1</td>\n      <td>Iron Man</td>\n      <td>Marvel</td>\n      <td>7.9</td>\n      <td>79</td>\n      <td>126</td>\n      <td>2008</td>\n      <td>140000000</td>\n      <td>98618668</td>\n      <td>318604126</td>\n      <td>585366247</td>\n    </tr>\n    <tr>\n      <th>1</th>\n      <td>2</td>\n      <td>The Incredible Hulk</td>\n      <td>Marvel</td>\n      <td>6.7</td>\n      <td>61</td>\n      <td>112</td>\n      <td>2008</td>\n      <td>150000000</td>\n      <td>55414050</td>\n      <td>134806913</td>\n      <td>263427551</td>\n    </tr>\n    <tr>\n      <th>2</th>\n      <td>3</td>\n      <td>Iron Man 2</td>\n      <td>Marvel</td>\n      <td>7.0</td>\n      <td>57</td>\n      <td>124</td>\n      <td>2010</td>\n      <td>200000000</td>\n      <td>128122480</td>\n      <td>312433331</td>\n      <td>623933331</td>\n    </tr>\n    <tr>\n      <th>3</th>\n      <td>4</td>\n      <td>Thor</td>\n      <td>Marvel</td>\n      <td>7.0</td>\n      <td>57</td>\n      <td>115</td>\n      <td>2011</td>\n      <td>150000000</td>\n      <td>65723338</td>\n      <td>181030624</td>\n      <td>449326618</td>\n    </tr>\n    <tr>\n      <th>4</th>\n      <td>5</td>\n      <td>Captain America: The First Avenger</td>\n      <td>Marvel</td>\n      <td>6.9</td>\n      <td>66</td>\n      <td>124</td>\n      <td>2011</td>\n      <td>140000000</td>\n      <td>65058524</td>\n      <td>176654505</td>\n      <td>370569774</td>\n    </tr>\n  </tbody>\n</table>\n</div>"
     },
     "metadata": {},
     "execution_count": 1
    }
   ],
   "source": [
    "import pandas as pd\n",
    "df = pd.read_csv('imdb.csv')\n",
    "df.head()"
   ]
  },
  {
   "cell_type": "code",
   "execution_count": 2,
   "metadata": {},
   "outputs": [
    {
     "output_type": "execute_result",
     "data": {
      "text/plain": [
       "id                     0\n",
       "Original Title         0\n",
       "Company                0\n",
       "Rate                   0\n",
       "Metascore              0\n",
       "Minutes                0\n",
       "Release                0\n",
       "Budget                 0\n",
       "Opening Weekend USA    0\n",
       "Gross USA              0\n",
       "Gross Worldwide        0\n",
       "dtype: int64"
      ]
     },
     "metadata": {},
     "execution_count": 2
    }
   ],
   "source": [
    "#Checking for missing values\n",
    "df.isnull().sum()"
   ]
  },
  {
   "cell_type": "code",
   "execution_count": 3,
   "metadata": {},
   "outputs": [
    {
     "output_type": "stream",
     "name": "stdout",
     "text": [
      "0                               iron_man\n1                    the_incredible_hulk\n2                             iron_man_2\n3                                   thor\n4      captain_america_the_first_avenger\n5                           the_avengers\n6                             iron_man_3\n7                    thor_the_dark_world\n8     captain_america_the_winter_soldier\n9                guardians_of_the_galaxy\n10                avengers_age_of_ultron\n11                               ant_man\n12             captain_america_civil_war\n13                        doctor_strange\n14         guardians_of_the_galaxy_vol_2\n15                 spider_man_homecoming\n16                         thor_ragnarok\n17                         black_panther\n18                 avengers_infinity_war\n19                  ant_man_and_the_wasp\n20                        captain_marvel\n21                      avengers_endgame\n22              spider_man_far_from_home\n23                              catwoman\n24                         batman_begins\n25                      superman_returns\n26                       the_dark_knight\n27                              watchmen\n28                             jonah_hex\n29                         green_lantern\n30                 the_dark_knight_rises\n31                          man_of_steel\n32     batman_v_superman_dawn_of_justice\n33                         suicide_squad\n34                          wonder_woman\n35                        justice_league\n36                               aquaman\n37                                shazam\n38                                 joker\nName: Original Title, dtype: object\n"
     ]
    }
   ],
   "source": [
    "#create an id for the movie titles (for clean iri)\n",
    "movie_id = df.loc[:,'Original Title'].str.strip()\n",
    "movie_id = movie_id.str.lower()\n",
    "movie_id = movie_id.str.replace(', ', '_').str.replace('/','_').str.replace(': ', '_').str.replace('-','_').str.replace(' ','_').str.replace(':','_').str.replace('!','').str.replace('.','')\n",
    "print(movie_id)"
   ]
  },
  {
   "cell_type": "code",
   "execution_count": 4,
   "metadata": {},
   "outputs": [
    {
     "output_type": "stream",
     "name": "stdout",
     "text": [
      "    id                       Original Title Company  Rate  Metascore  Minutes  \\\n0    1                             Iron Man  Marvel   7.9         79      126   \n1    2                  The Incredible Hulk  Marvel   6.7         61      112   \n2    3                           Iron Man 2  Marvel   7.0         57      124   \n3    4                                 Thor  Marvel   7.0         57      115   \n4    5   Captain America: The First Avenger  Marvel   6.9         66      124   \n5    6                         The Avengers  Marvel   8.0         69      143   \n6    7                           Iron Man 3  Marvel   7.2         62      130   \n7    8                 Thor: The Dark World  Marvel   6.9         54      112   \n8    9  Captain America: The Winter Soldier  Marvel   7.7         70      136   \n9   10              Guardians of the Galaxy  Marvel   8.0         76      121   \n10  11              Avengers: Age of Ultron  Marvel   7.3         66      141   \n11  12                              Ant-Man  Marvel   7.3         64      117   \n12  13           Captain America: Civil War  Marvel   7.8         75      147   \n13  14                       Doctor Strange  Marvel   7.5         72      115   \n14  15       Guardians of the Galaxy Vol. 2  Marvel   7.6         67      136   \n15  16               Spider-Man: Homecoming  Marvel   7.4         73      133   \n16  17                       Thor: Ragnarok  Marvel   7.9         74      130   \n17  18                        Black Panther  Marvel   7.3         88      134   \n18  19               Avengers: Infinity War  Marvel   8.5         68      149   \n19  20                 Ant-Man and the Wasp  Marvel   7.1         70      118   \n20  21                       Captain Marvel  Marvel   6.9         64      123   \n21  22                    Avengers: Endgame  Marvel   8.5         78      181   \n22  23            Spider-Man: Far from Home  Marvel   7.6         69      129   \n23  24                             Catwoman      DC   3.3         27      104   \n24  25                        Batman Begins      DC   8.2         70      140   \n25  26                     Superman Returns      DC   6.0         72      154   \n26  27                      The Dark Knight      DC   9.0         84      152   \n27  28                             Watchmen      DC   7.6         56      162   \n28  29                            Jonah Hex      DC   4.7         33       81   \n29  30                        Green Lantern      DC   5.5         39      114   \n30  31                The Dark Knight Rises      DC   8.4         78      164   \n31  32                         Man of Steel      DC   7.1         55      143   \n32  33   Batman v Superman: Dawn of Justice      DC   6.5         44      151   \n33  34                        Suicide Squad      DC   6.0         40      123   \n34  35                         Wonder Woman      DC   7.4         76      141   \n35  36                       Justice League      DC   6.4         45      120   \n36  37                              Aquaman      DC   7.0         55      143   \n37  38                              Shazam!      DC   7.1         71      132   \n38  39                                Joker      DC   8.7         59      122   \n\n    Release     Budget  Opening Weekend USA  Gross USA  Gross Worldwide  \\\n0      2008  140000000             98618668  318604126        585366247   \n1      2008  150000000             55414050  134806913        263427551   \n2      2010  200000000            128122480  312433331        623933331   \n3      2011  150000000             65723338  181030624        449326618   \n4      2011  140000000             65058524  176654505        370569774   \n5      2012  220000000            207438708  623357910       1518812988   \n6      2013  200000000            174144585  409013994       1214811252   \n7      2013  170000000             85737841  206362140        644783140   \n8      2014  170000000             95023721  259766572        714421503   \n9      2014  170000000             94320883  333176600        772776600   \n10     2015  250000000            191271109  459005868       1402805868   \n11     2015  130000000             57225526  180202163        519311965   \n12     2016  250000000            179139142  408084349       1153296293   \n13     2016  165000000             85058311  232641920        677718395   \n14     2017  200000000            146510104  389813101        863756051   \n15     2017  175000000            117027503  334201140        880166924   \n16     2017  180000000            122744989  315058289        853977126   \n17     2018  200000000            202003951  700059566       1346913161   \n18     2018  321000000            257698183  678815482       2048359754   \n19     2018  162000000             75812205  216648740        622674139   \n20     2019  175000000            153433423  426829839       1128274794   \n21     2019  356000000            357115007  858373000       2797800564   \n22     2019  160000000             92579212  390532085       1131927996   \n23     2004  100000000             16728411   40202379         82102379   \n24     2005  150000000             48745440  206852432        373413297   \n25     2006  270000000             52535096  200081192        391081192   \n26     2008  185000000            158411483  535234033       1004934033   \n27     2009  130000000             55214334  107509799        185258983   \n28     2010   47000000              5379365   10547117         10903312   \n29     2011  200000000             53174303  116601172        219851172   \n30     2012  250000000            160887295  448139099       1081041287   \n31     2013  225000000            116619362  291045518        668045518   \n32     2016  250000000            166007347  330360194        873634919   \n33     2016  175000000            133682248  325100054        746846894   \n34     2017  149000000            103251471  412563408        821847012   \n35     2017  300000000             93842239  229024295        657924295   \n36     2018  160000000             67873522  335061807       1148161807   \n37     2019  100000000             53505326  140371656        364571656   \n38     2019   55000000             96202337  333204580       1060504580   \n\n                              Movie ID  \n0                             iron_man  \n1                  the_incredible_hulk  \n2                           iron_man_2  \n3                                 thor  \n4    captain_america_the_first_avenger  \n5                         the_avengers  \n6                           iron_man_3  \n7                  thor_the_dark_world  \n8   captain_america_the_winter_soldier  \n9              guardians_of_the_galaxy  \n10              avengers_age_of_ultron  \n11                             ant_man  \n12           captain_america_civil_war  \n13                      doctor_strange  \n14       guardians_of_the_galaxy_vol_2  \n15               spider_man_homecoming  \n16                       thor_ragnarok  \n17                       black_panther  \n18               avengers_infinity_war  \n19                ant_man_and_the_wasp  \n20                      captain_marvel  \n21                    avengers_endgame  \n22            spider_man_far_from_home  \n23                            catwoman  \n24                       batman_begins  \n25                    superman_returns  \n26                     the_dark_knight  \n27                            watchmen  \n28                           jonah_hex  \n29                       green_lantern  \n30               the_dark_knight_rises  \n31                        man_of_steel  \n32   batman_v_superman_dawn_of_justice  \n33                       suicide_squad  \n34                        wonder_woman  \n35                      justice_league  \n36                             aquaman  \n37                              shazam  \n38                               joker  \n"
     ]
    }
   ],
   "source": [
    "#attach column 'Movie ID' to df\n",
    "df['Movie ID'] = movie_id\n",
    "print(df)"
   ]
  },
  {
   "cell_type": "code",
   "execution_count": 5,
   "metadata": {},
   "outputs": [],
   "source": [
    "#save the modified csv\n",
    "df.to_csv(r'movie_id.csv', index = False)"
   ]
  }
 ],
 "metadata": {
  "kernelspec": {
   "display_name": "Python 3",
   "language": "python",
   "name": "python3"
  },
  "language_info": {
   "codemirror_mode": {
    "name": "ipython",
    "version": 3
   },
   "file_extension": ".py",
   "mimetype": "text/x-python",
   "name": "python",
   "nbconvert_exporter": "python",
   "pygments_lexer": "ipython3",
   "version": "3.7.6"
  }
 },
 "nbformat": 4,
 "nbformat_minor": 4
}